{
 "cells": [
  {
   "cell_type": "markdown",
   "id": "a33c0c35",
   "metadata": {},
   "source": [
    "# Data Exploration & Visualization"
   ]
  },
  {
   "cell_type": "markdown",
   "id": "db9bef72",
   "metadata": {},
   "source": [
    "## Impoting The Dataset"
   ]
  },
  {
   "cell_type": "code",
   "execution_count": null,
   "id": "99f93370",
   "metadata": {},
   "outputs": [
    {
     "ename": "",
     "evalue": "",
     "output_type": "error",
     "traceback": [
      "\u001b[1;31mRunning cells with 'ds (Python 3.12.3)' requires the ipykernel package.\n",
      "\u001b[1;31mInstall 'ipykernel' into the Python environment. \n",
      "\u001b[1;31mCommand: '/home/omar/repos/sust/ds/bin/python -m pip install ipykernel -U --force-reinstall'"
     ]
    }
   ],
   "source": [
    "from sklearn.datasets import load_iris\n",
    "import pandas as pd\n",
    "import numpy as np\n",
    "\n",
    "iris_data = load_iris()\n",
    "iris_data = pd.DataFrame(data=iris_data.data, columns=iris_data.feature_names)\n",
    "iris_data.head(10)"
   ]
  },
  {
   "cell_type": "markdown",
   "id": "d3e69728",
   "metadata": {},
   "source": [
    "## Quantitative Checks"
   ]
  },
  {
   "cell_type": "code",
   "execution_count": 2,
   "id": "a333e1b4",
   "metadata": {},
   "outputs": [
    {
     "name": "stdout",
     "output_type": "stream",
     "text": [
      "Dataset Shape: (150, 4)\n",
      "_______________________________________________________________\n",
      "\n",
      "Column Names: Index(['sepal length (cm)', 'sepal width (cm)', 'petal length (cm)',\n",
      "       'petal width (cm)'],\n",
      "      dtype='object')\n",
      "_______________________________________________________________\n",
      "\n",
      "Data Types:\n",
      " sepal length (cm)    float64\n",
      "sepal width (cm)     float64\n",
      "petal length (cm)    float64\n",
      "petal width (cm)     float64\n",
      "dtype: object\n",
      "_______________________________________________________________\n",
      "\n",
      "Basic Statistical Summary:\n",
      "        sepal length (cm)  sepal width (cm)  petal length (cm)  \\\n",
      "count         150.000000        150.000000         150.000000   \n",
      "mean            5.843333          3.057333           3.758000   \n",
      "std             0.828066          0.435866           1.765298   \n",
      "min             4.300000          2.000000           1.000000   \n",
      "25%             5.100000          2.800000           1.600000   \n",
      "50%             5.800000          3.000000           4.350000   \n",
      "75%             6.400000          3.300000           5.100000   \n",
      "max             7.900000          4.400000           6.900000   \n",
      "\n",
      "       petal width (cm)  \n",
      "count        150.000000  \n",
      "mean           1.199333  \n",
      "std            0.762238  \n",
      "min            0.100000  \n",
      "25%            0.300000  \n",
      "50%            1.300000  \n",
      "75%            1.800000  \n",
      "max            2.500000  \n",
      "_______________________________________________________________\n",
      "sepal length (cm)    0\n",
      "sepal width (cm)     0\n",
      "petal length (cm)    0\n",
      "petal width (cm)     0\n",
      "dtype: int64\n"
     ]
    }
   ],
   "source": [
    "print(\"Dataset Shape:\", iris_data.shape)\n",
    "print(\"_______________________________________________________________\")\n",
    "print(\"\\nColumn Names:\", iris_data.columns)\n",
    "print(\"_______________________________________________________________\")\n",
    "print(\"\\nData Types:\\n\", iris_data.dtypes)\n",
    "print(\"_______________________________________________________________\")\n",
    "print(\"\\nBasic Statistical Summary:\\n\", iris_data.describe())\n",
    "print(\"_______________________________________________________________\")\n",
    "print(iris_data.isnull().sum())"
   ]
  },
  {
   "cell_type": "markdown",
   "id": "c982867c",
   "metadata": {},
   "source": [
    "## Summary Statistics Techniques"
   ]
  },
  {
   "cell_type": "code",
   "execution_count": 4,
   "id": "b8c7bc0b",
   "metadata": {},
   "outputs": [
    {
     "name": "stdout",
     "output_type": "stream",
     "text": [
      "Frequency Distributions:\n",
      "     sepal length (cm)  sepal width (cm)  petal length (cm)  petal width (cm)\n",
      "0.1                0.0               0.0                0.0               5.0\n",
      "0.2                0.0               0.0                0.0              29.0\n",
      "0.3                0.0               0.0                0.0               7.0\n",
      "0.4                0.0               0.0                0.0               7.0\n",
      "0.5                0.0               0.0                0.0               1.0\n",
      "..                 ...               ...                ...               ...\n",
      "7.3                1.0               0.0                0.0               0.0\n",
      "7.4                1.0               0.0                0.0               0.0\n",
      "7.6                1.0               0.0                0.0               0.0\n",
      "7.7                4.0               0.0                0.0               0.0\n",
      "7.9                1.0               0.0                0.0               0.0\n",
      "\n",
      "[74 rows x 4 columns]\n",
      "_______________________________________________________________\n",
      "Mode of Each Column:\n",
      "sepal length (cm)    5.0\n",
      "sepal width (cm)     3.0\n",
      "petal length (cm)    1.4\n",
      "petal width (cm)     0.2\n",
      "Name: 0, dtype: float64\n",
      "_______________________________________________________________\n",
      "Percentile Computations:\n",
      "      sepal length (cm)  sepal width (cm)  petal length (cm)  petal width (cm)\n",
      "0.25                5.1               2.8               1.60               0.3\n",
      "0.50                5.8               3.0               4.35               1.3\n",
      "0.75                6.4               3.3               5.10               1.8\n",
      "_______________________________________________________________\n",
      "Mean Values:\n",
      "sepal length (cm)    5.843333\n",
      "sepal width (cm)     3.057333\n",
      "petal length (cm)    3.758000\n",
      "petal width (cm)     1.199333\n",
      "dtype: float64\n",
      "\n",
      "Median Values:\n",
      "sepal length (cm)    5.80\n",
      "sepal width (cm)     3.00\n",
      "petal length (cm)    4.35\n",
      "petal width (cm)     1.30\n",
      "dtype: float64\n",
      "_______________________________________________________________\n",
      "Range of Each Column:\n",
      "sepal length (cm)    3.6\n",
      "sepal width (cm)     2.4\n",
      "petal length (cm)    5.9\n",
      "petal width (cm)     2.4\n",
      "dtype: float64\n",
      "_______________________________________________________________\n",
      "Variance of Each Column:\n",
      "sepal length (cm)    0.685694\n",
      "sepal width (cm)     0.189979\n",
      "petal length (cm)    3.116278\n",
      "petal width (cm)     0.581006\n",
      "dtype: float64\n"
     ]
    }
   ],
   "source": [
    "print(\"Frequency Distributions:\")\n",
    "print(iris_data.round(1).apply(lambda x: x.value_counts()).fillna(0))\n",
    "print(\"_______________________________________________________________\")\n",
    "\n",
    "# Mode calculation\n",
    "print(\"Mode of Each Column:\")\n",
    "print(iris_data.mode().iloc[0])\n",
    "print(\"_______________________________________________________________\")\n",
    "\n",
    "# Percentile computations (25th, 50th, 75th)\n",
    "percentiles = [25, 50, 75]\n",
    "print(\"Percentile Computations:\")\n",
    "print(iris_data.quantile(q=np.array(percentiles) / 100))\n",
    "print(\"_______________________________________________________________\")\n",
    "\n",
    "# Mean and median calculations\n",
    "print(\"Mean Values:\")\n",
    "print(iris_data.mean())\n",
    "print(\"\\nMedian Values:\")\n",
    "print(iris_data.median())\n",
    "print(\"_______________________________________________________________\")\n",
    "\n",
    "# Range (Max - Min)\n",
    "print(\"Range of Each Column:\")\n",
    "print(iris_data.max() - iris_data.min())\n",
    "print(\"_______________________________________________________________\")\n",
    "\n",
    "# Variance measurements\n",
    "print(\"Variance of Each Column:\")\n",
    "print(iris_data.var())"
   ]
  },
  {
   "cell_type": "markdown",
   "id": "10747c76",
   "metadata": {},
   "source": [
    "# Visualization"
   ]
  },
  {
   "cell_type": "markdown",
   "id": "c523c9bf",
   "metadata": {},
   "source": [
    "## Pie Chart"
   ]
  },
  {
   "cell_type": "code",
   "execution_count": null,
   "id": "91854be4",
   "metadata": {},
   "outputs": [],
   "source": [
    "iris_data[\"species\"] = [iris.target_names[i] for i in iris.target]  # Add species labels\n",
    "\n",
    "# Count occurrences of each species\n",
    "species_counts = iris_data[\"species\"].value_counts()\n",
    "\n",
    "# Create a pie chart\n",
    "plt.figure(figsize=(8, 6))\n",
    "plt.pie(species_counts, labels=species_counts.index, autopct=\"%1.1f%%\", colors=[\"lightblue\", \"lightgreen\", \"lightcoral\"])\n",
    "\n",
    "plt.title(\"Distribution of Iris Species\")\n",
    "plt.show()"
   ]
  },
  {
   "cell_type": "markdown",
   "id": "716a9bad",
   "metadata": {},
   "source": [
    "## Bar Chart"
   ]
  },
  {
   "cell_type": "code",
   "execution_count": null,
   "id": "154a892b",
   "metadata": {},
   "outputs": [],
   "source": [
    "mean_values = iris_data.drop(columns=[\"species\"]).mean() \n",
    "\n",
    "# Create a bar chart\n",
    "plt.figure(figsize=(8, 5))\n",
    "plt.bar(mean_values.index, mean_values.values, color=['blue', 'green', 'red', 'purple'])\n",
    "\n",
    "# Add labels and title\n",
    "plt.xlabel(\"Features\")\n",
    "plt.ylabel(\"Mean Value\")\n",
    "plt.title(\"Mean Values of Iris Dataset Features\")\n",
    "plt.xticks(rotation=45)  # Rotate labels for better readability\n",
    "\n",
    "# Show the plot\n",
    "plt.show()"
   ]
  },
  {
   "cell_type": "markdown",
   "id": "8f1f18e6",
   "metadata": {},
   "source": [
    "## Histograms"
   ]
  },
  {
   "cell_type": "code",
   "execution_count": null,
   "id": "84cc63eb",
   "metadata": {},
   "outputs": [],
   "source": [
    "# Create histograms for each feature\n",
    "iris_data.hist(figsize=(10, 6), bins=20, edgecolor='black')\n",
    "\n",
    "# Add title\n",
    "plt.suptitle(\"Histograms of Iris Dataset Features\", fontsize=16)\n",
    "\n",
    "# Show the plot\n",
    "plt.show()"
   ]
  },
  {
   "cell_type": "markdown",
   "id": "d0de9941",
   "metadata": {},
   "source": [
    "## Scatter Plots"
   ]
  },
  {
   "cell_type": "code",
   "execution_count": null,
   "id": "6a5300da",
   "metadata": {},
   "outputs": [],
   "source": [
    "iris_data[\"species\"] = [iris.target_names[i] for i in iris.target]  # Add species labels\n",
    "\n",
    "# Select two features to plot (e.g., sepal length vs petal length)\n",
    "x_feature = \"sepal length (cm)\"\n",
    "y_feature = \"petal length (cm)\"\n",
    "\n",
    "# Create scatter plot\n",
    "plt.figure(figsize=(8, 6))\n",
    "for species in iris_data[\"species\"].unique():\n",
    "    subset = iris_data[iris_data[\"species\"] == species]\n",
    "    plt.scatter(subset[x_feature], subset[y_feature], label=species)\n",
    "\n",
    "# Add labels and title\n",
    "plt.xlabel(x_feature)\n",
    "plt.ylabel(y_feature)\n",
    "plt.title(f\"Scatter Plot of {x_feature} vs {y_feature}\")\n",
    "plt.legend()\n",
    "plt.show()"
   ]
  },
  {
   "cell_type": "markdown",
   "id": "afc7ff00",
   "metadata": {},
   "source": [
    "## Box Plot"
   ]
  },
  {
   "cell_type": "code",
   "execution_count": null,
   "id": "9d25d45d",
   "metadata": {},
   "outputs": [],
   "source": [
    "import seaborn as sns\n",
    "\n",
    "\n",
    "iris_data[\"species\"] = [iris.target_names[i] for i in iris.target]  # Add species labels\n",
    "\n",
    "# Create a box plot for all numerical features grouped by species\n",
    "plt.figure(figsize=(8, 6))\n",
    "sns.boxplot(data=iris_data, x=\"species\", y=\"sepal length (cm)\")\n",
    "plt.title(\"Box Plot of Sepal Length by Species\")\n",
    "plt.xlabel(\"Species\")\n",
    "plt.ylabel(\"Sepal Length (cm)\")\n",
    "plt.show()\n"
   ]
  },
  {
   "cell_type": "code",
   "execution_count": null,
   "id": "1b860b13",
   "metadata": {},
   "outputs": [],
   "source": []
  }
 ],
 "metadata": {
  "kernelspec": {
   "display_name": "ds",
   "language": "python",
   "name": "python3"
  },
  "language_info": {
   "codemirror_mode": {
    "name": "ipython",
    "version": 3
   },
   "file_extension": ".py",
   "mimetype": "text/x-python",
   "name": "python",
   "nbconvert_exporter": "python",
   "pygments_lexer": "ipython3",
   "version": "3.12.3"
  }
 },
 "nbformat": 4,
 "nbformat_minor": 5
}
